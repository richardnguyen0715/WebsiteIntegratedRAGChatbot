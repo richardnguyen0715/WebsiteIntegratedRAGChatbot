{
 "cells": [
  {
   "cell_type": "markdown",
   "metadata": {},
   "source": [
    "## Data Visualization Course | VNU-HCM University of Science.\n",
    "### Final Project\n",
    "#### **STEP 01 - DATA COLLECTION**"
   ]
  },
  {
   "cell_type": "code",
   "execution_count": 8,
   "metadata": {},
   "outputs": [],
   "source": [
    "import sys\n",
    "import os\n",
    "shared_path = os.path.abspath(os.path.join(os.getcwd(), '..', 'Shared'))\n",
    "sys.path.append(shared_path)"
   ]
  },
  {
   "cell_type": "code",
   "execution_count": 9,
   "metadata": {},
   "outputs": [],
   "source": [
    "from Libraries import *\n",
    "from Shared_Functions import *\n",
    "\n",
    "#Downloader\n",
    "import kagglehub"
   ]
  },
  {
   "cell_type": "markdown",
   "metadata": {},
   "source": [
    "#### Kaggle Dataset Downloader:"
   ]
  },
  {
   "cell_type": "code",
   "execution_count": 10,
   "metadata": {},
   "outputs": [],
   "source": [
    "def dataset_downloader():\n",
    "    path = kagglehub.dataset_download(\"duongtruongbinh/vietnamese-national-high-school-graduation-exam\")\n",
    "    print(\"Path to dataset files:\", path)\n",
    "    return path"
   ]
  },
  {
   "cell_type": "code",
   "execution_count": 11,
   "metadata": {},
   "outputs": [
    {
     "name": "stdout",
     "output_type": "stream",
     "text": [
      "Path to dataset files: C:\\Users\\pc\\.cache\\kagglehub\\datasets\\duongtruongbinh\\vietnamese-national-high-school-graduation-exam\\versions\\1\n"
     ]
    }
   ],
   "source": [
    "source_path = dataset_downloader()"
   ]
  },
  {
   "cell_type": "markdown",
   "metadata": {},
   "source": [
    "#### Lấy ra đường dẫn của thư mục cần chứa dataset"
   ]
  },
  {
   "cell_type": "code",
   "execution_count": 12,
   "metadata": {},
   "outputs": [],
   "source": [
    "# Get the current directory\n",
    "destination_path = getGranDir() / 'Dataset'"
   ]
  },
  {
   "cell_type": "markdown",
   "metadata": {},
   "source": [
    "#### Tạo bản copy của dataset vào trong thư mục hoạt động"
   ]
  },
  {
   "cell_type": "code",
   "execution_count": 13,
   "metadata": {},
   "outputs": [],
   "source": [
    "def copy_csv_files(source_folder, destination_folder):\n",
    "    if not os.path.exists(source_folder):\n",
    "        raise FileNotFoundError(f\"Source folder '{source_folder}' not found.\")\n",
    "    \n",
    "    # Create new dir if not exist\n",
    "    os.makedirs(destination_folder, exist_ok=True)\n",
    "    #Find CSV file\n",
    "    for file_name in os.listdir(source_folder):\n",
    "        if file_name.endswith('.csv'):  # Filter only .csv files\n",
    "            source_file = os.path.join(source_folder, file_name)\n",
    "            destination_file = os.path.join(destination_folder, file_name)\n",
    "            shutil.copy2(source_file, destination_file)  # Copy file with metadata\n",
    "            print(f\"Copied: {source_file} to {destination_file}\")"
   ]
  },
  {
   "cell_type": "code",
   "execution_count": 14,
   "metadata": {},
   "outputs": [
    {
     "name": "stdout",
     "output_type": "stream",
     "text": [
      "Copied: C:\\Users\\pc\\.cache\\kagglehub\\datasets\\duongtruongbinh\\vietnamese-national-high-school-graduation-exam\\versions\\1\\scores.csv to d:\\SINHVIEN\\1.study\\hk1_nam3\\TrucQuanHoaDL\\WebsiteIntegratedRAGChatbot\\Dataset\\scores.csv\n"
     ]
    }
   ],
   "source": [
    "copy_csv_files(source_path, destination_path)"
   ]
  }
 ],
 "metadata": {
  "kernelspec": {
   "display_name": "Python 3",
   "language": "python",
   "name": "python3"
  },
  "language_info": {
   "codemirror_mode": {
    "name": "ipython",
    "version": 3
   },
   "file_extension": ".py",
   "mimetype": "text/x-python",
   "name": "python",
   "nbconvert_exporter": "python",
   "pygments_lexer": "ipython3",
   "version": "3.13.1"
  }
 },
 "nbformat": 4,
 "nbformat_minor": 2
}
