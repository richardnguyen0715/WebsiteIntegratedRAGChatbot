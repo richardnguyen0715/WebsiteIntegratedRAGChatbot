{
 "cells": [
  {
   "cell_type": "markdown",
   "metadata": {},
   "source": [
    "## Data Visualization Course | VNU-HCM University of Science.\n",
    "### Final Project\n",
    "#### **STEP 02 - DATA Preprocessing**"
   ]
  },
  {
   "cell_type": "code",
   "execution_count": 48,
   "metadata": {},
   "outputs": [],
   "source": [
    "import sys\n",
    "import os\n",
    "shared_path = os.path.abspath(os.path.join(os.getcwd(), '..', 'Shared'))\n",
    "sys.path.append(shared_path)"
   ]
  },
  {
   "cell_type": "code",
   "execution_count": 49,
   "metadata": {},
   "outputs": [],
   "source": [
    "from Libraries import *\n",
    "from Shared_Functions import *"
   ]
  },
  {
   "cell_type": "code",
   "execution_count": 50,
   "metadata": {},
   "outputs": [
    {
     "data": {
      "text/html": [
       "<div>\n",
       "<style scoped>\n",
       "    .dataframe tbody tr th:only-of-type {\n",
       "        vertical-align: middle;\n",
       "    }\n",
       "\n",
       "    .dataframe tbody tr th {\n",
       "        vertical-align: top;\n",
       "    }\n",
       "\n",
       "    .dataframe thead th {\n",
       "        text-align: right;\n",
       "    }\n",
       "</style>\n",
       "<table border=\"1\" class=\"dataframe\">\n",
       "  <thead>\n",
       "    <tr style=\"text-align: right;\">\n",
       "      <th></th>\n",
       "      <th>Student ID</th>\n",
       "      <th>Mathematics</th>\n",
       "      <th>Literature</th>\n",
       "      <th>Foreign language</th>\n",
       "      <th>Physics</th>\n",
       "      <th>Chemistry</th>\n",
       "      <th>Biology</th>\n",
       "      <th>History</th>\n",
       "      <th>Geography</th>\n",
       "      <th>Civic education</th>\n",
       "      <th>Foreign language code</th>\n",
       "    </tr>\n",
       "  </thead>\n",
       "  <tbody>\n",
       "    <tr>\n",
       "      <th>0</th>\n",
       "      <td>1000001</td>\n",
       "      <td>8.4</td>\n",
       "      <td>8.50</td>\n",
       "      <td>9.2</td>\n",
       "      <td>NaN</td>\n",
       "      <td>NaN</td>\n",
       "      <td>NaN</td>\n",
       "      <td>6.75</td>\n",
       "      <td>6.00</td>\n",
       "      <td>9.00</td>\n",
       "      <td>N1</td>\n",
       "    </tr>\n",
       "    <tr>\n",
       "      <th>1</th>\n",
       "      <td>1000002</td>\n",
       "      <td>7.2</td>\n",
       "      <td>8.50</td>\n",
       "      <td>9.2</td>\n",
       "      <td>NaN</td>\n",
       "      <td>NaN</td>\n",
       "      <td>NaN</td>\n",
       "      <td>8.75</td>\n",
       "      <td>6.50</td>\n",
       "      <td>8.50</td>\n",
       "      <td>N1</td>\n",
       "    </tr>\n",
       "    <tr>\n",
       "      <th>2</th>\n",
       "      <td>1000003</td>\n",
       "      <td>NaN</td>\n",
       "      <td>6.50</td>\n",
       "      <td>NaN</td>\n",
       "      <td>NaN</td>\n",
       "      <td>NaN</td>\n",
       "      <td>NaN</td>\n",
       "      <td>9.25</td>\n",
       "      <td>7.50</td>\n",
       "      <td>NaN</td>\n",
       "      <td>NaN</td>\n",
       "    </tr>\n",
       "    <tr>\n",
       "      <th>3</th>\n",
       "      <td>1000004</td>\n",
       "      <td>7.8</td>\n",
       "      <td>8.25</td>\n",
       "      <td>7.8</td>\n",
       "      <td>NaN</td>\n",
       "      <td>NaN</td>\n",
       "      <td>NaN</td>\n",
       "      <td>4.50</td>\n",
       "      <td>6.25</td>\n",
       "      <td>8.25</td>\n",
       "      <td>N1</td>\n",
       "    </tr>\n",
       "    <tr>\n",
       "      <th>4</th>\n",
       "      <td>1000005</td>\n",
       "      <td>7.2</td>\n",
       "      <td>8.00</td>\n",
       "      <td>7.8</td>\n",
       "      <td>NaN</td>\n",
       "      <td>NaN</td>\n",
       "      <td>NaN</td>\n",
       "      <td>4.75</td>\n",
       "      <td>6.75</td>\n",
       "      <td>8.25</td>\n",
       "      <td>N1</td>\n",
       "    </tr>\n",
       "  </tbody>\n",
       "</table>\n",
       "</div>"
      ],
      "text/plain": [
       "   Student ID  Mathematics  Literature  Foreign language  Physics  Chemistry  \\\n",
       "0     1000001          8.4        8.50               9.2      NaN        NaN   \n",
       "1     1000002          7.2        8.50               9.2      NaN        NaN   \n",
       "2     1000003          NaN        6.50               NaN      NaN        NaN   \n",
       "3     1000004          7.8        8.25               7.8      NaN        NaN   \n",
       "4     1000005          7.2        8.00               7.8      NaN        NaN   \n",
       "\n",
       "   Biology  History  Geography  Civic education Foreign language code  \n",
       "0      NaN     6.75       6.00             9.00                    N1  \n",
       "1      NaN     8.75       6.50             8.50                    N1  \n",
       "2      NaN     9.25       7.50              NaN                   NaN  \n",
       "3      NaN     4.50       6.25             8.25                    N1  \n",
       "4      NaN     4.75       6.75             8.25                    N1  "
      ]
     },
     "execution_count": 50,
     "metadata": {},
     "output_type": "execute_result"
    }
   ],
   "source": [
    "dataset_source_path = getGranDir() / 'Dataset'\n",
    "pre_process_dataset_path = dataset_source_path / 'scores.csv'\n",
    "raw_df = pd.read_csv(pre_process_dataset_path)\n",
    "raw_df.head()"
   ]
  },
  {
   "cell_type": "markdown",
   "metadata": {},
   "source": [
    "**1. Kiểm tra kiểu dữ liệu và số lượng hàng, cột**"
   ]
  },
  {
   "cell_type": "code",
   "execution_count": 51,
   "metadata": {},
   "outputs": [
    {
     "name": "stdout",
     "output_type": "stream",
     "text": [
      "Student ID                 int64\n",
      "Mathematics              float64\n",
      "Literature               float64\n",
      "Foreign language         float64\n",
      "Physics                  float64\n",
      "Chemistry                float64\n",
      "Biology                  float64\n",
      "History                  float64\n",
      "Geography                float64\n",
      "Civic education          float64\n",
      "Foreign language code     object\n",
      "dtype: object\n"
     ]
    },
    {
     "data": {
      "text/plain": [
       "(1022060, 11)"
      ]
     },
     "execution_count": 51,
     "metadata": {},
     "output_type": "execute_result"
    }
   ],
   "source": [
    "print(raw_df.dtypes)\n",
    "raw_df.shape"
   ]
  },
  {
   "cell_type": "markdown",
   "metadata": {},
   "source": [
    "**Nhận xét:** Các cột đã có kiểu dữ liệu phù hợp với ý nghĩa."
   ]
  },
  {
   "cell_type": "markdown",
   "metadata": {},
   "source": [
    "**2. Kiểm tra điều kiện tồn tại của các cột.**"
   ]
  },
  {
   "cell_type": "markdown",
   "metadata": {},
   "source": [
    "**2.1 Kiểm tra cột ID: các ID này phải là DUY NHẤT, và phải lớn hơn 0.**"
   ]
  },
  {
   "cell_type": "code",
   "execution_count": 52,
   "metadata": {},
   "outputs": [
    {
     "name": "stdout",
     "output_type": "stream",
     "text": [
      "Less than zero: \n",
      "Series([], Name: Student ID, dtype: int64)\n",
      "Values is not unique: \n",
      "Series([], Name: Student ID, dtype: int64)\n"
     ]
    }
   ],
   "source": [
    "# ID\n",
    "ID_col = raw_df['Student ID']\n",
    "less_than_0 = ID_col[ID_col < 0]\n",
    "duplicate_values = ID_col[ID_col.duplicated(keep=False)]\n",
    "print('Less than zero: ')\n",
    "print(less_than_0)\n",
    "print('Values is not unique: ')\n",
    "print(duplicate_values)"
   ]
  },
  {
   "cell_type": "markdown",
   "metadata": {},
   "source": [
    "**Nhận xét:** Như vậy không có giá trị nào bé hơn không và không có giá trị nào bị trùng lập.\n",
    "\n",
    "**Kết luận:** Vì không có trùng lặp cho nên không có hàng nào trong dataset sẽ bị trùng lập."
   ]
  },
  {
   "cell_type": "markdown",
   "metadata": {},
   "source": [
    "**2.2 Kiểm tra các cột điểm - score: Score phải >= 0 và <= 10 hoặc bằng NaN.**"
   ]
  },
  {
   "cell_type": "code",
   "execution_count": 53,
   "metadata": {},
   "outputs": [],
   "source": [
    "score_df = raw_df.select_dtypes(include='float64')\n",
    "score_df.head()\n",
    "for col in score_df.columns:\n",
    "    less_than_0 = score_df[score_df[col] < 0]\n",
    "    greater_than_10 = score_df[score_df[col] > 10]\n",
    "    \n",
    "    if len(less_than_0.index.tolist()):\n",
    "        print(f'Column: {col}')\n",
    "        print('Less than zero (indices): ')\n",
    "        print(less_than_0.index.tolist())\n",
    "    \n",
    "    if len(greater_than_10.index.tolist()):\n",
    "        print(f'Column: {col}')\n",
    "        print('Greater than ten (indices): ')\n",
    "        print(greater_than_10.index.tolist())"
   ]
  },
  {
   "cell_type": "markdown",
   "metadata": {},
   "source": [
    "**Nhận xét:** Không có output được in ra, tức nghĩa là các cột đều đã thõa mãn điều kiện."
   ]
  },
  {
   "cell_type": "markdown",
   "metadata": {},
   "source": [
    "**2.4 Kiểm tra cột có kiểu dữ liệu không phải dữ liệu kiểu số**"
   ]
  },
  {
   "cell_type": "markdown",
   "metadata": {},
   "source": [
    "Ở đây ta chỉ cần tìm ra các trường DUY NHẤT."
   ]
  },
  {
   "cell_type": "code",
   "execution_count": 54,
   "metadata": {},
   "outputs": [
    {
     "data": {
      "text/plain": [
       "array(['N1', nan, 'N6', 'N4', 'N7', 'N5', 'N3', 'N2'], dtype=object)"
      ]
     },
     "execution_count": 54,
     "metadata": {},
     "output_type": "execute_result"
    }
   ],
   "source": [
    "non_numerical = raw_df['Foreign language code']\n",
    "unique_values = non_numerical.unique()\n",
    "unique_values"
   ]
  },
  {
   "cell_type": "markdown",
   "metadata": {},
   "source": [
    "Kiểm tra số lượng các loại ngôn ngữ được thi dựa trên mã ngôn ngữ"
   ]
  },
  {
   "cell_type": "code",
   "execution_count": 55,
   "metadata": {},
   "outputs": [
    {
     "name": "stdout",
     "output_type": "stream",
     "text": [
      "Foreign language code\n",
      "N1    876102\n",
      "N4      2940\n",
      "N3       716\n",
      "N6       659\n",
      "N7       407\n",
      "N2        87\n",
      "N5        86\n",
      "Name: count, dtype: int64\n"
     ]
    }
   ],
   "source": [
    "foreign_language_counts = raw_df['Foreign language code'].value_counts()\n",
    "print (foreign_language_counts)"
   ]
  },
  {
   "cell_type": "markdown",
   "metadata": {},
   "source": [
    "**3. Kiểm tra các thiếu khuyết trong dữ liệu:**"
   ]
  },
  {
   "cell_type": "code",
   "execution_count": 56,
   "metadata": {},
   "outputs": [],
   "source": [
    "def calcMissingRatio(df):\n",
    "    missing_ratio = {}\n",
    "    for key, values in df.items():\n",
    "        missing_count = values.isna().sum()\n",
    "        total_count = len(values)\n",
    "        missing_ratio[key] = round(( missing_count / total_count )* 100, 1) if total_count != 0 else None\n",
    "    return missing_ratio"
   ]
  },
  {
   "cell_type": "code",
   "execution_count": 57,
   "metadata": {},
   "outputs": [
    {
     "name": "stdout",
     "output_type": "stream",
     "text": [
      "Column: Student ID - Missing Ratio: 0.0\n",
      "Column: Mathematics - Missing Ratio: 1.8\n",
      "Column: Literature - Missing Ratio: 1.4\n",
      "Column: Foreign language - Missing Ratio: 13.8\n",
      "Column: Physics - Missing Ratio: 68.0\n",
      "Column: Chemistry - Missing Ratio: 67.9\n",
      "Column: Biology - Missing Ratio: 68.2\n",
      "Column: History - Missing Ratio: 33.1\n",
      "Column: Geography - Missing Ratio: 33.3\n",
      "Column: Civic education - Missing Ratio: 44.7\n",
      "Column: Foreign language code - Missing Ratio: 13.8\n"
     ]
    }
   ],
   "source": [
    "missing_ratio = calcMissingRatio(raw_df)\n",
    "for key, values in missing_ratio.items():\n",
    "    print(f'Column: {key} - Missing Ratio: {values}')"
   ]
  },
  {
   "cell_type": "markdown",
   "metadata": {},
   "source": [
    "**Nhận xét:**\n",
    "1. Ta thấy các cột như: `Mathematics`, `Literature`, `Foreign language` có tỉ lệ thiếu khuyết thấp, biểu thị rằng các môn học này rất quan trọng.\n",
    "2. Các môn học còn lại  `Physics`, `Chemistry`, `Biology`, `History`, `Geography`, `Civic education` đều có thiếu khuyết. Điều này xảy ra là bởi vì các thí sinh chọn những khối thi khác nhau.\n",
    "3. Cột như `Student ID` có tỉ lệ thiếu khuyết là 0.0%.\n",
    "4. Loại ngôn ngữ được thi nhiều nhất có mã là N1, đây là môn Tiếng Anh.\n",
    "\n",
    "\n",
    "**Kết luận:** \n",
    "1. Ta sẽ xét các môn thi chính thức như Toán - Lý - Hóa - Sinh - Văn - Sử - Địa - GDCD. \n",
    "2. Đối với môn thi ngoại ngữ, ta sẽ chọn môn Tiếng Anh để xét vì độ phổ biến của nó\n",
    "3. Vì do chúng ta đã xóa các cột ngoại ngữ khác nên cột định nghĩa còn 1 loại là N1, ta sẽ xóa luôn cột định nghĩa ký hiệu cho các loại ngoại ngữ : `Foreign language code`"
   ]
  },
  {
   "cell_type": "code",
   "execution_count": 58,
   "metadata": {},
   "outputs": [
    {
     "name": "stdout",
     "output_type": "stream",
     "text": [
      "Number of rows with 'Foreign language code' as 'N1': 876102\n"
     ]
    },
    {
     "data": {
      "text/html": [
       "<div>\n",
       "<style scoped>\n",
       "    .dataframe tbody tr th:only-of-type {\n",
       "        vertical-align: middle;\n",
       "    }\n",
       "\n",
       "    .dataframe tbody tr th {\n",
       "        vertical-align: top;\n",
       "    }\n",
       "\n",
       "    .dataframe thead th {\n",
       "        text-align: right;\n",
       "    }\n",
       "</style>\n",
       "<table border=\"1\" class=\"dataframe\">\n",
       "  <thead>\n",
       "    <tr style=\"text-align: right;\">\n",
       "      <th></th>\n",
       "      <th>Student ID</th>\n",
       "      <th>Mathematics</th>\n",
       "      <th>Literature</th>\n",
       "      <th>Foreign language</th>\n",
       "      <th>Physics</th>\n",
       "      <th>Chemistry</th>\n",
       "      <th>Biology</th>\n",
       "      <th>History</th>\n",
       "      <th>Geography</th>\n",
       "      <th>Civic education</th>\n",
       "    </tr>\n",
       "  </thead>\n",
       "  <tbody>\n",
       "    <tr>\n",
       "      <th>0</th>\n",
       "      <td>1000001</td>\n",
       "      <td>8.4</td>\n",
       "      <td>8.50</td>\n",
       "      <td>9.2</td>\n",
       "      <td>NaN</td>\n",
       "      <td>NaN</td>\n",
       "      <td>NaN</td>\n",
       "      <td>6.75</td>\n",
       "      <td>6.00</td>\n",
       "      <td>9.00</td>\n",
       "    </tr>\n",
       "    <tr>\n",
       "      <th>1</th>\n",
       "      <td>1000002</td>\n",
       "      <td>7.2</td>\n",
       "      <td>8.50</td>\n",
       "      <td>9.2</td>\n",
       "      <td>NaN</td>\n",
       "      <td>NaN</td>\n",
       "      <td>NaN</td>\n",
       "      <td>8.75</td>\n",
       "      <td>6.50</td>\n",
       "      <td>8.50</td>\n",
       "    </tr>\n",
       "    <tr>\n",
       "      <th>3</th>\n",
       "      <td>1000004</td>\n",
       "      <td>7.8</td>\n",
       "      <td>8.25</td>\n",
       "      <td>7.8</td>\n",
       "      <td>NaN</td>\n",
       "      <td>NaN</td>\n",
       "      <td>NaN</td>\n",
       "      <td>4.50</td>\n",
       "      <td>6.25</td>\n",
       "      <td>8.25</td>\n",
       "    </tr>\n",
       "    <tr>\n",
       "      <th>4</th>\n",
       "      <td>1000005</td>\n",
       "      <td>7.2</td>\n",
       "      <td>8.00</td>\n",
       "      <td>7.8</td>\n",
       "      <td>NaN</td>\n",
       "      <td>NaN</td>\n",
       "      <td>NaN</td>\n",
       "      <td>4.75</td>\n",
       "      <td>6.75</td>\n",
       "      <td>8.25</td>\n",
       "    </tr>\n",
       "    <tr>\n",
       "      <th>5</th>\n",
       "      <td>1000006</td>\n",
       "      <td>7.6</td>\n",
       "      <td>9.25</td>\n",
       "      <td>9.0</td>\n",
       "      <td>NaN</td>\n",
       "      <td>NaN</td>\n",
       "      <td>NaN</td>\n",
       "      <td>8.50</td>\n",
       "      <td>7.25</td>\n",
       "      <td>9.75</td>\n",
       "    </tr>\n",
       "  </tbody>\n",
       "</table>\n",
       "</div>"
      ],
      "text/plain": [
       "   Student ID  Mathematics  Literature  Foreign language  Physics  Chemistry  \\\n",
       "0     1000001          8.4        8.50               9.2      NaN        NaN   \n",
       "1     1000002          7.2        8.50               9.2      NaN        NaN   \n",
       "3     1000004          7.8        8.25               7.8      NaN        NaN   \n",
       "4     1000005          7.2        8.00               7.8      NaN        NaN   \n",
       "5     1000006          7.6        9.25               9.0      NaN        NaN   \n",
       "\n",
       "   Biology  History  Geography  Civic education  \n",
       "0      NaN     6.75       6.00             9.00  \n",
       "1      NaN     8.75       6.50             8.50  \n",
       "3      NaN     4.50       6.25             8.25  \n",
       "4      NaN     4.75       6.75             8.25  \n",
       "5      NaN     8.50       7.25             9.75  "
      ]
     },
     "execution_count": 58,
     "metadata": {},
     "output_type": "execute_result"
    }
   ],
   "source": [
    "filtered_df = raw_df[raw_df['Foreign language code'] == 'N1']\n",
    "filtered_df = filtered_df.drop(columns=['Foreign language code'])\n",
    "\n",
    "row_count = filtered_df.shape[0]\n",
    "print(f\"Number of rows with 'Foreign language code' as 'N1': {row_count}\")\n",
    "\n",
    "filtered_df.head()"
   ]
  },
  {
   "cell_type": "markdown",
   "metadata": {},
   "source": [
    "**4. Có hai khối thi là Khoa học tự nhiên và Khoa học xã hội, khi ta thi KHTN ( lý - hóa - sinh ) thì sẽ không thi các môn KHXH ( sử - địa - GDCD ).**"
   ]
  },
  {
   "cell_type": "markdown",
   "metadata": {},
   "source": [
    "Chính vì vậy mà ta sẽ không tiến hành điền khuyết NaN vào trong các trường dữ liệu này. Mà ta sẽ phân tích dựa theo hai tổ hợp môn này."
   ]
  },
  {
   "cell_type": "markdown",
   "metadata": {},
   "source": [
    "**5. Sắp xếp các kết quả hàng theo id.**"
   ]
  },
  {
   "cell_type": "code",
   "execution_count": 59,
   "metadata": {},
   "outputs": [
    {
     "data": {
      "text/html": [
       "<div>\n",
       "<style scoped>\n",
       "    .dataframe tbody tr th:only-of-type {\n",
       "        vertical-align: middle;\n",
       "    }\n",
       "\n",
       "    .dataframe tbody tr th {\n",
       "        vertical-align: top;\n",
       "    }\n",
       "\n",
       "    .dataframe thead th {\n",
       "        text-align: right;\n",
       "    }\n",
       "</style>\n",
       "<table border=\"1\" class=\"dataframe\">\n",
       "  <thead>\n",
       "    <tr style=\"text-align: right;\">\n",
       "      <th></th>\n",
       "      <th>Student ID</th>\n",
       "      <th>Mathematics</th>\n",
       "      <th>Literature</th>\n",
       "      <th>Foreign language</th>\n",
       "      <th>Physics</th>\n",
       "      <th>Chemistry</th>\n",
       "      <th>Biology</th>\n",
       "      <th>History</th>\n",
       "      <th>Geography</th>\n",
       "      <th>Civic education</th>\n",
       "    </tr>\n",
       "  </thead>\n",
       "  <tbody>\n",
       "    <tr>\n",
       "      <th>0</th>\n",
       "      <td>1000001</td>\n",
       "      <td>8.4</td>\n",
       "      <td>8.50</td>\n",
       "      <td>9.2</td>\n",
       "      <td>NaN</td>\n",
       "      <td>NaN</td>\n",
       "      <td>NaN</td>\n",
       "      <td>6.75</td>\n",
       "      <td>6.00</td>\n",
       "      <td>9.00</td>\n",
       "    </tr>\n",
       "    <tr>\n",
       "      <th>1</th>\n",
       "      <td>1000002</td>\n",
       "      <td>7.2</td>\n",
       "      <td>8.50</td>\n",
       "      <td>9.2</td>\n",
       "      <td>NaN</td>\n",
       "      <td>NaN</td>\n",
       "      <td>NaN</td>\n",
       "      <td>8.75</td>\n",
       "      <td>6.50</td>\n",
       "      <td>8.50</td>\n",
       "    </tr>\n",
       "    <tr>\n",
       "      <th>3</th>\n",
       "      <td>1000004</td>\n",
       "      <td>7.8</td>\n",
       "      <td>8.25</td>\n",
       "      <td>7.8</td>\n",
       "      <td>NaN</td>\n",
       "      <td>NaN</td>\n",
       "      <td>NaN</td>\n",
       "      <td>4.50</td>\n",
       "      <td>6.25</td>\n",
       "      <td>8.25</td>\n",
       "    </tr>\n",
       "    <tr>\n",
       "      <th>4</th>\n",
       "      <td>1000005</td>\n",
       "      <td>7.2</td>\n",
       "      <td>8.00</td>\n",
       "      <td>7.8</td>\n",
       "      <td>NaN</td>\n",
       "      <td>NaN</td>\n",
       "      <td>NaN</td>\n",
       "      <td>4.75</td>\n",
       "      <td>6.75</td>\n",
       "      <td>8.25</td>\n",
       "    </tr>\n",
       "    <tr>\n",
       "      <th>5</th>\n",
       "      <td>1000006</td>\n",
       "      <td>7.6</td>\n",
       "      <td>9.25</td>\n",
       "      <td>9.0</td>\n",
       "      <td>NaN</td>\n",
       "      <td>NaN</td>\n",
       "      <td>NaN</td>\n",
       "      <td>8.50</td>\n",
       "      <td>7.25</td>\n",
       "      <td>9.75</td>\n",
       "    </tr>\n",
       "  </tbody>\n",
       "</table>\n",
       "</div>"
      ],
      "text/plain": [
       "   Student ID  Mathematics  Literature  Foreign language  Physics  Chemistry  \\\n",
       "0     1000001          8.4        8.50               9.2      NaN        NaN   \n",
       "1     1000002          7.2        8.50               9.2      NaN        NaN   \n",
       "3     1000004          7.8        8.25               7.8      NaN        NaN   \n",
       "4     1000005          7.2        8.00               7.8      NaN        NaN   \n",
       "5     1000006          7.6        9.25               9.0      NaN        NaN   \n",
       "\n",
       "   Biology  History  Geography  Civic education  \n",
       "0      NaN     6.75       6.00             9.00  \n",
       "1      NaN     8.75       6.50             8.50  \n",
       "3      NaN     4.50       6.25             8.25  \n",
       "4      NaN     4.75       6.75             8.25  \n",
       "5      NaN     8.50       7.25             9.75  "
      ]
     },
     "execution_count": 59,
     "metadata": {},
     "output_type": "execute_result"
    }
   ],
   "source": [
    "filtered_df.sort_values(by='Student ID', ascending=True, inplace=True)\n",
    "raw_df = filtered_df.copy()\n",
    "filtered_df.head()"
   ]
  },
  {
   "cell_type": "markdown",
   "metadata": {},
   "source": [
    "**6. Tiến hành ghi tập dữ liệu sau khi xử lý vào file csv.**"
   ]
  },
  {
   "cell_type": "code",
   "execution_count": 60,
   "metadata": {},
   "outputs": [],
   "source": [
    "processed_dataset_path = dataset_source_path / 'THPTQG_2023_processed.csv'\n",
    "filtered_df.to_csv(processed_dataset_path, index=False)"
   ]
  }
 ],
 "metadata": {
  "kernelspec": {
   "display_name": "base",
   "language": "python",
   "name": "python3"
  },
  "language_info": {
   "codemirror_mode": {
    "name": "ipython",
    "version": 3
   },
   "file_extension": ".py",
   "mimetype": "text/x-python",
   "name": "python",
   "nbconvert_exporter": "python",
   "pygments_lexer": "ipython3",
   "version": "3.12.4"
  }
 },
 "nbformat": 4,
 "nbformat_minor": 2
}
